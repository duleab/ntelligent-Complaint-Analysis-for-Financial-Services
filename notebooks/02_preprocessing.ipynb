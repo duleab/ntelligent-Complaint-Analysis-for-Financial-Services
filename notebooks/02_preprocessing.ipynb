{
 "cells": [
  {
   "cell_type": "markdown",
   "metadata": {},
   "source": [
    "# Data Preprocessing for RAG Pipeline\n",
    "This notebook focuses on preprocessing the filtered complaint data to prepare it for the RAG pipeline. We'll clean the text narratives, handle any remaining issues, and prepare the data for embedding."
   ]
  },
  {
   "cell_type": "markdown",
   "metadata": {},
   "source": [
    "## Setup and Imports"
   ]
  },
  {
   "cell_type": "code",
   "execution_count": 1,
   "metadata": {},
   "outputs": [
    {
     "name": "stderr",
     "output_type": "stream",
     "text": [
      "[nltk_data] Downloading package punkt to\n",
      "[nltk_data]     C:\\Users\\villian\\AppData\\Roaming\\nltk_data...\n",
      "[nltk_data]   Package punkt is already up-to-date!\n",
      "[nltk_data] Downloading package stopwords to\n",
      "[nltk_data]     C:\\Users\\villian\\AppData\\Roaming\\nltk_data...\n",
      "[nltk_data]   Package stopwords is already up-to-date!\n"
     ]
    }
   ],
   "source": [
    "import pandas as pd\n",
    "import numpy as np\n",
    "import re\n",
    "import string\n",
    "import matplotlib.pyplot as plt\n",
    "import seaborn as sns\n",
    "from tqdm.notebook import tqdm\n",
    "\n",
    "import nltk\n",
    "from nltk.corpus import stopwords\n",
    "from nltk.tokenize import word_tokenize\n",
    "nltk.download('punkt')\n",
    "nltk.download('stopwords')\n",
    "\n",
    "plt.style.use('ggplot')\n",
    "sns.set(style='whitegrid')\n",
    "\n",
    "pd.set_option('display.max_columns', None)\n",
    "pd.set_option('display.max_rows', 100)\n",
    "pd.set_option('display.width', 1000)"
   ]
  },
  {
   "cell_type": "markdown",
   "metadata": {},
   "source": [
    "## Text Cleaning Functions"
   ]
  },
  {
   "cell_type": "code",
   "execution_count": 2,
   "metadata": {},
   "outputs": [],
   "source": [
    "def remove_special_characters(text):\n",
    "    if not isinstance(text, str): return ''\n",
    "    return re.sub(r'[^\\w\\s.,!?\\'\":\\-]', ' ', text)\n",
    "\n",
    "def remove_extra_whitespace(text):\n",
    "    if not isinstance(text, str): return ''\n",
    "    text = re.sub(r'[\\n\\t\\r]', ' ', text)\n",
    "    return re.sub(r'\\s+', ' ', text).strip()\n",
    "\n",
    "def remove_boilerplate(text):\n",
    "    if not isinstance(text, str): return ''\n",
    "    boilerplate = [\n",
    "        'I am writing to file a complaint',\n",
    "        'I would like to file a complaint',\n",
    "        'I am filing a complaint',\n",
    "        'I am submitting this complaint',\n",
    "        'I wish to file a complaint',\n",
    "        'XXXX', 'XX/XX/XXXX'\n",
    "    ]\n",
    "    for phrase in boilerplate:\n",
    "        text = text.replace(phrase, '')\n",
    "    text = re.sub(r'X{2,}', '[REDACTED]', text)\n",
    "    text = re.sub(r'X{1,2}/X{1,2}/X{2,4}', '[DATE]', text)\n",
    "    return text\n",
    "\n",
    "def clean_text(text):\n",
    "    if not isinstance(text, str): return ''\n",
    "    text = text.lower()\n",
    "    text = remove_boilerplate(text)\n",
    "    text = remove_special_characters(text)\n",
    "    text = remove_extra_whitespace(text)\n",
    "    return text"
   ]
  },
  {
   "cell_type": "code",
   "execution_count": 3,
   "metadata": {},
   "outputs": [],
   "source": [
    "# Data Preprocessing for RAG Pipeline\n",
    "\n",
    "import pandas as pd\n",
    "import numpy as np\n",
    "import re\n",
    "import string\n",
    "import matplotlib.pyplot as plt\n",
    "import seaborn as sns\n",
    "from tqdm.notebook import tqdm\n"
   ]
  },
  {
   "cell_type": "code",
   "execution_count": 4,
   "metadata": {},
   "outputs": [],
   "source": [
    "# NLP libraries\n",
    "import nltk\n",
    "from nltk.corpus import stopwords\n",
    "from nltk.tokenize import word_tokenize"
   ]
  },
  {
   "cell_type": "code",
   "execution_count": 5,
   "metadata": {},
   "outputs": [
    {
     "name": "stderr",
     "output_type": "stream",
     "text": [
      "[nltk_data] Downloading package punkt to\n",
      "[nltk_data]     C:\\Users\\villian\\AppData\\Roaming\\nltk_data...\n",
      "[nltk_data]   Package punkt is already up-to-date!\n",
      "[nltk_data] Downloading package stopwords to\n",
      "[nltk_data]     C:\\Users\\villian\\AppData\\Roaming\\nltk_data...\n",
      "[nltk_data]   Package stopwords is already up-to-date!\n"
     ]
    },
    {
     "data": {
      "text/plain": [
       "True"
      ]
     },
     "execution_count": 5,
     "metadata": {},
     "output_type": "execute_result"
    }
   ],
   "source": [
    "# Download NLTK resources\n",
    "nltk.download('punkt')\n",
    "nltk.download('stopwords')"
   ]
  },
  {
   "cell_type": "code",
   "execution_count": 6,
   "metadata": {},
   "outputs": [],
   "source": [
    "# Set plot style\n",
    "plt.style.use('ggplot')\n",
    "sns.set(style='whitegrid')"
   ]
  },
  {
   "cell_type": "code",
   "execution_count": 7,
   "metadata": {},
   "outputs": [],
   "source": [
    "# Display settings\n",
    "pd.set_option('display.max_columns', None)\n",
    "pd.set_option('display.max_rows', 100)\n",
    "pd.set_option('display.width', 1000)"
   ]
  },
  {
   "cell_type": "code",
   "execution_count": 8,
   "metadata": {},
   "outputs": [
    {
     "name": "stdout",
     "output_type": "stream",
     "text": [
      "Dataset shape: (363412, 19)\n"
     ]
    },
    {
     "data": {
      "text/html": [
       "<div>\n",
       "<style scoped>\n",
       "    .dataframe tbody tr th:only-of-type {\n",
       "        vertical-align: middle;\n",
       "    }\n",
       "\n",
       "    .dataframe tbody tr th {\n",
       "        vertical-align: top;\n",
       "    }\n",
       "\n",
       "    .dataframe thead th {\n",
       "        text-align: right;\n",
       "    }\n",
       "</style>\n",
       "<table border=\"1\" class=\"dataframe\">\n",
       "  <thead>\n",
       "    <tr style=\"text-align: right;\">\n",
       "      <th></th>\n",
       "      <th>Date received</th>\n",
       "      <th>Product</th>\n",
       "      <th>Sub-product</th>\n",
       "      <th>Issue</th>\n",
       "      <th>Sub-issue</th>\n",
       "      <th>Consumer complaint narrative</th>\n",
       "      <th>Company public response</th>\n",
       "      <th>Company</th>\n",
       "      <th>State</th>\n",
       "      <th>ZIP code</th>\n",
       "      <th>Tags</th>\n",
       "      <th>Consumer consent provided?</th>\n",
       "      <th>Submitted via</th>\n",
       "      <th>Date sent to company</th>\n",
       "      <th>Company response to consumer</th>\n",
       "      <th>Timely response?</th>\n",
       "      <th>Consumer disputed?</th>\n",
       "      <th>Complaint ID</th>\n",
       "      <th>narrative_word_count</th>\n",
       "    </tr>\n",
       "  </thead>\n",
       "  <tbody>\n",
       "    <tr>\n",
       "      <th>0</th>\n",
       "      <td>2025-06-13</td>\n",
       "      <td>Checking or savings account</td>\n",
       "      <td>Checking account</td>\n",
       "      <td>Managing an account</td>\n",
       "      <td>Deposits and withdrawals</td>\n",
       "      <td>i made the mistake of using my wellsfargo debi...</td>\n",
       "      <td>Company has responded to the consumer and the ...</td>\n",
       "      <td>WELLS FARGO &amp; COMPANY</td>\n",
       "      <td>ID</td>\n",
       "      <td>83815</td>\n",
       "      <td>NaN</td>\n",
       "      <td>Consent provided</td>\n",
       "      <td>Web</td>\n",
       "      <td>2025-06-13</td>\n",
       "      <td>Closed with explanation</td>\n",
       "      <td>Yes</td>\n",
       "      <td>NaN</td>\n",
       "      <td>14061897</td>\n",
       "      <td>109</td>\n",
       "    </tr>\n",
       "    <tr>\n",
       "      <th>1</th>\n",
       "      <td>2025-06-08</td>\n",
       "      <td>Checking or savings account</td>\n",
       "      <td>Checking account</td>\n",
       "      <td>Managing an account</td>\n",
       "      <td>Problem accessing account</td>\n",
       "      <td>got locked out of my account because i was try...</td>\n",
       "      <td>Company has responded to the consumer and the ...</td>\n",
       "      <td>CITIBANK, N.A.</td>\n",
       "      <td>MI</td>\n",
       "      <td>49401</td>\n",
       "      <td>Servicemember</td>\n",
       "      <td>Consent provided</td>\n",
       "      <td>Web</td>\n",
       "      <td>2025-06-08</td>\n",
       "      <td>Closed with explanation</td>\n",
       "      <td>Yes</td>\n",
       "      <td>NaN</td>\n",
       "      <td>13960106</td>\n",
       "      <td>235</td>\n",
       "    </tr>\n",
       "    <tr>\n",
       "      <th>2</th>\n",
       "      <td>2025-06-09</td>\n",
       "      <td>Checking or savings account</td>\n",
       "      <td>Checking account</td>\n",
       "      <td>Problem caused by your funds being low</td>\n",
       "      <td>Overdrafts and overdraft fees</td>\n",
       "      <td>i am in the process of applying for a mortgage...</td>\n",
       "      <td>Company has responded to the consumer and the ...</td>\n",
       "      <td>WELLS FARGO &amp; COMPANY</td>\n",
       "      <td>TX</td>\n",
       "      <td>77047</td>\n",
       "      <td>NaN</td>\n",
       "      <td>Consent provided</td>\n",
       "      <td>Web</td>\n",
       "      <td>2025-06-09</td>\n",
       "      <td>Closed with explanation</td>\n",
       "      <td>Yes</td>\n",
       "      <td>NaN</td>\n",
       "      <td>13976941</td>\n",
       "      <td>57</td>\n",
       "    </tr>\n",
       "    <tr>\n",
       "      <th>3</th>\n",
       "      <td>2025-06-09</td>\n",
       "      <td>Money transfer, virtual currency, or money ser...</td>\n",
       "      <td>Mobile or digital wallet</td>\n",
       "      <td>Fraud or scam</td>\n",
       "      <td>NaN</td>\n",
       "      <td>this all happened in xxxx and xxxx was taken f...</td>\n",
       "      <td>Company has responded to the consumer and the ...</td>\n",
       "      <td>WELLS FARGO &amp; COMPANY</td>\n",
       "      <td>TX</td>\n",
       "      <td>75602</td>\n",
       "      <td>Servicemember</td>\n",
       "      <td>Consent provided</td>\n",
       "      <td>Web</td>\n",
       "      <td>2025-06-09</td>\n",
       "      <td>Closed with explanation</td>\n",
       "      <td>Yes</td>\n",
       "      <td>NaN</td>\n",
       "      <td>13974625</td>\n",
       "      <td>510</td>\n",
       "    </tr>\n",
       "    <tr>\n",
       "      <th>4</th>\n",
       "      <td>2025-05-30</td>\n",
       "      <td>Checking or savings account</td>\n",
       "      <td>Savings account</td>\n",
       "      <td>Closing an account</td>\n",
       "      <td>Company closed your account</td>\n",
       "      <td>usaa savings bank decided to close my account ...</td>\n",
       "      <td>Company has responded to the consumer and the ...</td>\n",
       "      <td>UNITED SERVICES AUTOMOBILE ASSOCIATION</td>\n",
       "      <td>TX</td>\n",
       "      <td>XXXXX</td>\n",
       "      <td>Servicemember</td>\n",
       "      <td>Consent provided</td>\n",
       "      <td>Web</td>\n",
       "      <td>2025-05-30</td>\n",
       "      <td>Closed with explanation</td>\n",
       "      <td>Yes</td>\n",
       "      <td>NaN</td>\n",
       "      <td>13810547</td>\n",
       "      <td>64</td>\n",
       "    </tr>\n",
       "  </tbody>\n",
       "</table>\n",
       "</div>"
      ],
      "text/plain": [
       "  Date received                                            Product               Sub-product                                   Issue                      Sub-issue                       Consumer complaint narrative                            Company public response                                 Company State ZIP code           Tags Consumer consent provided? Submitted via Date sent to company Company response to consumer Timely response?  Consumer disputed?  Complaint ID  narrative_word_count\n",
       "0    2025-06-13                        Checking or savings account          Checking account                     Managing an account       Deposits and withdrawals  i made the mistake of using my wellsfargo debi...  Company has responded to the consumer and the ...                   WELLS FARGO & COMPANY    ID    83815            NaN           Consent provided           Web           2025-06-13      Closed with explanation              Yes                 NaN      14061897                   109\n",
       "1    2025-06-08                        Checking or savings account          Checking account                     Managing an account      Problem accessing account  got locked out of my account because i was try...  Company has responded to the consumer and the ...                          CITIBANK, N.A.    MI    49401  Servicemember           Consent provided           Web           2025-06-08      Closed with explanation              Yes                 NaN      13960106                   235\n",
       "2    2025-06-09                        Checking or savings account          Checking account  Problem caused by your funds being low  Overdrafts and overdraft fees  i am in the process of applying for a mortgage...  Company has responded to the consumer and the ...                   WELLS FARGO & COMPANY    TX    77047            NaN           Consent provided           Web           2025-06-09      Closed with explanation              Yes                 NaN      13976941                    57\n",
       "3    2025-06-09  Money transfer, virtual currency, or money ser...  Mobile or digital wallet                           Fraud or scam                            NaN  this all happened in xxxx and xxxx was taken f...  Company has responded to the consumer and the ...                   WELLS FARGO & COMPANY    TX    75602  Servicemember           Consent provided           Web           2025-06-09      Closed with explanation              Yes                 NaN      13974625                   510\n",
       "4    2025-05-30                        Checking or savings account           Savings account                      Closing an account    Company closed your account  usaa savings bank decided to close my account ...  Company has responded to the consumer and the ...  UNITED SERVICES AUTOMOBILE ASSOCIATION    TX    XXXXX  Servicemember           Consent provided           Web           2025-05-30      Closed with explanation              Yes                 NaN      13810547                    64"
      ]
     },
     "execution_count": 8,
     "metadata": {},
     "output_type": "execute_result"
    }
   ],
   "source": [
    "# Load the filtered dataset\n",
    "data_path = '../Data/processed/filtered_complaints.csv'\n",
    "complaints_df = pd.read_csv(data_path)\n",
    "\n",
    "# Display basic information\n",
    "print(f'Dataset shape: {complaints_df.shape}')\n",
    "complaints_df.head()"
   ]
  },
  {
   "cell_type": "code",
   "execution_count": 9,
   "metadata": {},
   "outputs": [],
   "source": [
    "\n",
    "# Text Cleaning Functions\n",
    "def remove_special_characters(text):\n",
    "    \"\"\"Remove special characters, keeping only alphanumeric and basic punctuation.\"\"\"\n",
    "    if not isinstance(text, str):\n",
    "        return ''\n",
    "    # Keep alphanumeric, spaces, and basic punctuation\n",
    "    return re.sub(r'[^\\w\\s.,!?\\-\\\"\\':]', ' ', text)\n",
    "\n",
    "def remove_extra_whitespace(text):\n",
    "    \"\"\"Remove extra whitespace, including newlines and tabs.\"\"\"\n",
    "    if not isinstance(text, str):\n",
    "        return ''\n",
    "    # Replace newlines and tabs with spaces\n",
    "    text = re.sub(r'[\\n\\t\\r]', ' ', text)\n",
    "    # Replace multiple spaces with a single space\n",
    "    text = re.sub(r'\\s+', ' ', text)\n",
    "    return text.strip()\n",
    "\n",
    "def remove_boilerplate(text):\n",
    "    \"\"\"Remove common boilerplate text from complaints.\"\"\"\n",
    "    if not isinstance(text, str):\n",
    "        return ''\n",
    "    \n",
    "    # Common phrases to remove\n",
    "    boilerplate = [\n",
    "        r'\\b(?:i am writing to file a complaint|this is a complaint about|i am filing a complaint regarding|'\n",
    "        r'dear sir/madam|to whom it may concern|please be advised that|i am writing to express my concern|'\n",
    "        r'i am writing to file a formal complaint|i am writing to report an issue)\\b[.,]?',\n",
    "        r'\\b(?:regarding|re:|fw:|fwd:|sent from my iphone|sent from my android|thank you|sincerely|best regards|'\n",
    "        r'yours truly|please let me know|please contact me|please advise|as soon as possible|asap)\\b[.,]?'\n",
    "    ]\n",
    "    \n",
    "    for pattern in boilerplate:\n",
    "        text = re.sub(pattern, ' ', text, flags=re.IGNORECASE)\n",
    "    \n",
    "    return text\n",
    "\n",
    "def clean_text(text):\n",
    "    \"\"\"Apply all cleaning functions in sequence.\"\"\"\n",
    "    if not isinstance(text, str):\n",
    "        return ''\n",
    "    \n",
    "    # Apply cleaning functions in sequence\n",
    "    text = text.lower()  # Convert to lowercase\n",
    "    text = remove_boilerplate(text)\n",
    "    text = remove_special_characters(text)\n",
    "    text = remove_extra_whitespace(text)\n",
    "    \n",
    "    return text"
   ]
  },
  {
   "cell_type": "code",
   "execution_count": 10,
   "metadata": {},
   "outputs": [
    {
     "name": "stdout",
     "output_type": "stream",
     "text": [
      "Cleaning complaint narratives...\n"
     ]
    },
    {
     "data": {
      "application/vnd.jupyter.widget-view+json": {
       "model_id": "e7c35c8d26a5470685f702d33c490f2e",
       "version_major": 2,
       "version_minor": 0
      },
      "text/plain": [
       "  0%|          | 0/363412 [00:00<?, ?it/s]"
      ]
     },
     "metadata": {},
     "output_type": "display_data"
    }
   ],
   "source": [
    "\n",
    "# Apply text cleaning to the complaint narratives\n",
    "print(\"Cleaning complaint narratives...\")\n",
    "tqdm.pandas()\n",
    "complaints_df['cleaned_narrative'] = complaints_df['Consumer complaint narrative'].progress_apply(clean_text)"
   ]
  },
  {
   "cell_type": "code",
   "execution_count": 11,
   "metadata": {},
   "outputs": [
    {
     "data": {
      "image/png": "[encoded data removed]",
      "text/plain": [
       "<Figure size 1200x600 with 1 Axes>"
      ]
     },
     "metadata": {},
     "output_type": "display_data"
    }
   ],
   "source": [
    "\n",
    "\n",
    "# Analyze text lengths before and after cleaning\n",
    "complaints_df['original_length'] = complaints_df['Consumer complaint narrative'].str.split().str.len()\n",
    "complaints_df['cleaned_length'] = complaints_df['cleaned_narrative'].str.split().str.len()\n",
    "\n",
    "# Plot the distribution of text lengths\n",
    "plt.figure(figsize=(12, 6))\n",
    "sns.histplot(data=complaints_df, x='original_length', bins=50, alpha=0.5, label='Original')\n",
    "sns.histplot(data=complaints_df, x='cleaned_length', bins=50, alpha=0.5, label='Cleaned')\n",
    "plt.title('Distribution of Complaint Lengths (Words)')\n",
    "plt.xlabel('Number of Words')\n",
    "plt.ylabel('Count')\n",
    "plt.legend()\n",
    "plt.show()"
   ]
  },
  {
   "cell_type": "code",
   "execution_count": 12,
   "metadata": {},
   "outputs": [
    {
     "name": "stdout",
     "output_type": "stream",
     "text": [
      "Cleaned data saved to ../Data/processed/cleaned_complaints.csv\n",
      "\n",
      "Text Length Statistics:\n",
      "Average original length: 205.5 words\n",
      "Average cleaned length: 204.7 words\n",
      "Characters removed: 315,377 characters\n"
     ]
    }
   ],
   "source": [
    "# Save the cleaned data\n",
    "output_path = '../Data/processed/cleaned_complaints.csv'\n",
    "complaints_df.to_csv(output_path, index=False)\n",
    "print(f\"Cleaned data saved to {output_path}\")\n",
    "\n",
    "# Display basic statistics\n",
    "print(\"\\nText Length Statistics:\")\n",
    "print(f\"Average original length: {complaints_df['original_length'].mean():.1f} words\")\n",
    "print(f\"Average cleaned length: {complaints_df['cleaned_length'].mean():.1f} words\")\n",
    "print(f\"Characters removed: {complaints_df['original_length'].sum() - complaints_df['cleaned_length'].sum():,} characters\")"
   ]
  }
 ],
 "metadata": {
  "kernelspec": {
   "display_name": "Python 3",
   "language": "python",
   "name": "python3"
  },
  "language_info": {
   "codemirror_mode": {
    "name": "ipython",
    "version": 3
   },
   "file_extension": ".py",
   "mimetype": "text/x-python",
   "name": "python",
   "nbconvert_exporter": "python",
   "pygments_lexer": "ipython3",
   "version": "3.13.3"
  }
 },
 "nbformat": 4,
 "nbformat_minor": 4
}
