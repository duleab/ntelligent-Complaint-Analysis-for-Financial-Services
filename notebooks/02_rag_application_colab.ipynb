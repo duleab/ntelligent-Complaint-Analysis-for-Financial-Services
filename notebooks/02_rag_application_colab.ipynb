# Interactive RAG Application

# Install required packages
!pip install -q transformers sentence-transformers langchain langchain-community faiss-cpu pandas numpy gradio

import os
import json
import faiss
from sentence_transformers import SentenceTransformer
import numpy as np
import gradio as gr
from google.colab import drive

# Mount Google Drive
drive.mount('/content/drive')

# Set up paths
PROJECT_DIR = '/content/drive/MyDrive/FinancialComplaints'

# Load vector store and metadata
print("Loading vector store and metadata...")
index = faiss.read_index(os.path.join(PROJECT_DIR, 'complaints_vector_store.index'))
with open(os.path.join(PROJECT_DIR, 'chunk_metadata.json'), 'r') as f:
    chunk_metadata = json.load(f)

# Initialize model
model = SentenceTransformer('sentence-transformers/all-MiniLM-L6-v2', device='cuda')

# Search function
def search_complaints(query, k=5):
    """Search for complaints using the vector store."""
    # Get query embedding
    query_embedding = model.encode([query], show_progress_bar=False)
    
    # Search
    D, I = index.search(query_embedding, k)
    
    # Get results
    results = []
    for i in range(k):
        idx = I[0][i]
        score = D[0][i]
        metadata = chunk_metadata[idx]
        
        result = {
            'score': score,
            'product': metadata['product'],
            'issue': metadata['issue'],
            'company': metadata['company'],
            'date': metadata['date']
        }
        results.append(result)
    
    return results

def get_complaint_details(complaint_id):
    """Get full details for a specific complaint."""
    # TODO: Implement this function to fetch full complaint details
    return "Full complaint details will be shown here"

# Create Gradio interface
def query_interface(user_query):
    """Interface for querying the complaint database."""
    results = search_complaints(user_query)
    
    output = "Search Results:\n\n"
    for i, result in enumerate(results, 1):
        output += f"Result {i}:\n"
        output += f"Product: {result['product']}\n"
        output += f"Issue: {result['issue']}\n"
        output += f"Company: {result['company']}\n"
        output += f"Date: {result['date']}\n"
        output += "-" * 50 + "\n"
    
    return output

demo = gr.Interface(
    fn=query_interface,
    inputs=gr.Textbox(label="Enter your query about financial complaints:"),
    outputs=gr.Textbox(label="Search Results"),
    title="Financial Complaints RAG System",
    description="Search through millions of financial complaints using natural language queries."
)

# Run the interface
demo.launch()
